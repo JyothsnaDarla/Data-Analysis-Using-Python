{
 "cells": [
  {
   "cell_type": "code",
   "execution_count": 3,
   "id": "093006d8",
   "metadata": {},
   "outputs": [
    {
     "name": "stdout",
     "output_type": "stream",
     "text": [
      "{'location': {'name': 'Madurai', 'region': 'Tamil Nadu', 'country': 'India', 'lat': 9.93, 'lon': 78.12, 'tz_id': 'Asia/Kolkata', 'localtime_epoch': 1709099370, 'localtime': '2024-02-28 11:19'}, 'current': {'last_updated_epoch': 1709099100, 'last_updated': '2024-02-28 11:15', 'temp_c': 32.0, 'temp_f': 89.6, 'is_day': 1, 'condition': {'text': 'Mist', 'icon': '//cdn.weatherapi.com/weather/64x64/day/143.png', 'code': 1030}, 'wind_mph': 11.9, 'wind_kph': 19.1, 'wind_degree': 60, 'wind_dir': 'ENE', 'pressure_mb': 1014.0, 'pressure_in': 29.94, 'precip_mm': 0.0, 'precip_in': 0.0, 'humidity': 56, 'cloud': 50, 'feelslike_c': 32.6, 'feelslike_f': 90.6, 'vis_km': 4.0, 'vis_miles': 2.0, 'uv': 8.0, 'gust_mph': 14.4, 'gust_kph': 23.2}}\n"
     ]
    }
   ],
   "source": [
    "import requests\n",
    "api_keys='1fa58e46afa643f1ade53651242802'\n",
    "city='madurai'\n",
    "url=f\"http://api.weatherapi.com/v1/current.json?key={api_keys}&q={city}\"\n",
    "response=requests.get(url)\n",
    "data=response.json()\n",
    "print(data)"
   ]
  },
  {
   "cell_type": "code",
   "execution_count": 4,
   "id": "1781cb6a",
   "metadata": {},
   "outputs": [
    {
     "data": {
      "text/plain": [
       "dict"
      ]
     },
     "execution_count": 4,
     "metadata": {},
     "output_type": "execute_result"
    }
   ],
   "source": [
    "type(data)"
   ]
  },
  {
   "cell_type": "code",
   "execution_count": 5,
   "id": "e9b7a29a",
   "metadata": {},
   "outputs": [
    {
     "data": {
      "text/plain": [
       "'Madurai'"
      ]
     },
     "execution_count": 5,
     "metadata": {},
     "output_type": "execute_result"
    }
   ],
   "source": [
    "data['location']['name']"
   ]
  },
  {
   "cell_type": "code",
   "execution_count": 6,
   "id": "0dbd6f86",
   "metadata": {},
   "outputs": [
    {
     "name": "stdout",
     "output_type": "stream",
     "text": [
      "city: Madurai\n"
     ]
    }
   ],
   "source": [
    "print(\"city:\",data['location']['name'])"
   ]
  },
  {
   "cell_type": "code",
   "execution_count": 7,
   "id": "1f39b4cb",
   "metadata": {},
   "outputs": [
    {
     "name": "stdout",
     "output_type": "stream",
     "text": [
      "state: Tamil Nadu\n"
     ]
    }
   ],
   "source": [
    "print(\"state:\",data['location']['region'])"
   ]
  },
  {
   "cell_type": "code",
   "execution_count": 8,
   "id": "2706678b",
   "metadata": {},
   "outputs": [
    {
     "name": "stdout",
     "output_type": "stream",
     "text": [
      "country: India\n"
     ]
    }
   ],
   "source": [
    "print(\"country:\",data['location']['country'])"
   ]
  },
  {
   "cell_type": "code",
   "execution_count": 9,
   "id": "ca70ddd0",
   "metadata": {},
   "outputs": [
    {
     "name": "stdout",
     "output_type": "stream",
     "text": [
      "temp in c: 32.0\n"
     ]
    }
   ],
   "source": [
    "print(\"temp in :\",data['current']['temp_c'])"
   ]
  },
  {
   "cell_type": "code",
   "execution_count": 16,
   "id": "5703796e",
   "metadata": {},
   "outputs": [
    {
     "name": "stdout",
     "output_type": "stream",
     "text": [
      "wind direction: ENE\n"
     ]
    }
   ],
   "source": [
    "print(\"wind direction:\",data['current']['wind_dir'])"
   ]
  },
  {
   "cell_type": "code",
   "execution_count": 18,
   "id": "f47bdd2f",
   "metadata": {},
   "outputs": [
    {
     "name": "stdout",
     "output_type": "stream",
     "text": [
      "wind_speed: 11.9\n"
     ]
    }
   ],
   "source": [
    "print(\"wind_speed:\",data['current']['wind_mph'])"
   ]
  },
  {
   "cell_type": "code",
   "execution_count": 19,
   "id": "8e506381",
   "metadata": {},
   "outputs": [
    {
     "name": "stdout",
     "output_type": "stream",
     "text": [
      "humidity: 56\n"
     ]
    }
   ],
   "source": [
    "print(\"humidity:\",data['current']['humidity'])"
   ]
  },
  {
   "cell_type": "code",
   "execution_count": null,
   "id": "f7fe4045",
   "metadata": {},
   "outputs": [],
   "source": [
    "print(\"feels_like:\",data['current']['feelslike_c'])"
   ]
  },
  {
   "cell_type": "code",
   "execution_count": null,
   "id": "fee6b81b",
   "metadata": {},
   "outputs": [],
   "source": [
    "import requests\n",
    "api_keys='1fa58e46afa643f1ade53651242802'\n",
    "city=input('enter any city')\n",
    "url=f\"http://api.weatherapi.com/v1/current.json?key={api_keys}&q={city}\"\n",
    "response=requests.get(url)\n",
    "data=response.json()\n",
    "print(\"city:\",data['location']['name'])\n",
    "print(\"state:\",data['location']['region'])\n",
    "print(\"country:\",data['location']['country'])\n",
    "print(\"temp in :\",data['current']['temp_c'])\n",
    "print(\"wind direction:\",data['current']['wind_dir'])\n",
    "print(\"wind_speed:\",data['current']['wind_mph'])\n",
    "print(\"humidity:\",data['current']['humidity'])\n",
    "print(\"feels_like:\",data['current']['feelslike_c'])"
   ]
  },
  {
   "cell_type": "code",
   "execution_count": null,
   "id": "4b03043b",
   "metadata": {},
   "outputs": [],
   "source": [
    "import requests\n",
    "api_keys='1fa58e46afa643f1ade53651242802'\n",
    "city=input('enter any city')\n",
    "url=f\"http://api.weatherapi.com/v1/current.json?key={api_keys}&q={city}\"\n",
    "response=requests.get(url)\n",
    "data=response.json()\n",
    "print(data)\n",
    "if data['error']['code']==1006\n",
    "    print(\"no location found\")\n",
    "else\n",
    "    print(\"city:\",data['location']['name'])\n",
    "    print(\"state:\",data['location']['region'])\n",
    "    print(\"country:\",data['location']['country'])\n",
    "    print(\"temp in :\",data['current']['temp_c'])\n",
    "    print(\"wind direction:\",data['current']['wind_dir'])\n",
    "    print(\"wind_speed:\",data['current']['wind_mph'])\n",
    "    print(\"humidity:\",data['current']['humidity'])\n",
    "    print(\"feels like:\",data['current']['feelslike_c'])"
   ]
  },
  {
   "cell_type": "code",
   "execution_count": null,
   "id": "39b290bf",
   "metadata": {},
   "outputs": [],
   "source": [
    "s"
   ]
  },
  {
   "cell_type": "code",
   "execution_count": null,
   "id": "8e0a565a",
   "metadata": {},
   "outputs": [],
   "source": []
  }
 ],
 "metadata": {
  "kernelspec": {
   "display_name": "Python 3 (ipykernel)",
   "language": "python",
   "name": "python3"
  },
  "language_info": {
   "codemirror_mode": {
    "name": "ipython",
    "version": 3
   },
   "file_extension": ".py",
   "mimetype": "text/x-python",
   "name": "python",
   "nbconvert_exporter": "python",
   "pygments_lexer": "ipython3",
   "version": "3.11.5"
  }
 },
 "nbformat": 4,
 "nbformat_minor": 5
}
